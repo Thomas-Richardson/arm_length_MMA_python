{
 "cells": [
  {
   "cell_type": "code",
   "execution_count": 1,
   "metadata": {},
   "outputs": [
    {
     "ename": "SyntaxError",
     "evalue": "invalid character '‘' (U+2018) (4023270967.py, line 4)",
     "output_type": "error",
     "traceback": [
      "\u001b[0;36m  Input \u001b[0;32mIn [1]\u001b[0;36m\u001b[0m\n\u001b[0;31m    import seaborn as snsdata_raw = pd.read_csv(‘https://github.com/Thomas-Richardson/Blog_post_data/blob/main/UFC_data_raw_2021-03-11.csv?raw=true')data_clean = data_raw\u001b[0m\n\u001b[0m                                                ^\u001b[0m\n\u001b[0;31mSyntaxError\u001b[0m\u001b[0;31m:\u001b[0m invalid character '‘' (U+2018)\n"
     ]
    }
   ],
   "source": [
    "import pandas as pd\n",
    "import numpy as np\n",
    "import matplotlib.pyplot as plt\n",
    "import seaborn as snsdata_raw = pd.read_csv(‘https://github.com/Thomas-Richardson/Blog_post_data/blob/main/UFC_data_raw_2021-03-11.csv?raw=true')data_clean = data_raw"
   ]
  },
  {
   "cell_type": "code",
   "execution_count": null,
   "metadata": {},
   "outputs": [],
   "source": [
    "data_clean.head(20)"
   ]
  },
  {
   "cell_type": "code",
   "execution_count": null,
   "metadata": {},
   "outputs": [],
   "source": [
    "data_clean.info()"
   ]
  },
  {
   "cell_type": "code",
   "execution_count": null,
   "metadata": {},
   "outputs": [],
   "source": [
    "data_clean = data_clean.drop(['Unnamed: 0', 'Belt'], axis = 1)"
   ]
  },
  {
   "cell_type": "code",
   "execution_count": null,
   "metadata": {},
   "outputs": [],
   "source": [
    "data_clean.columns = [‘first_name’, ‘last_name’, ‘nickname’, ‘height’, ‘weight_lbs’, ‘armspan_inches’, ‘stance’, ‘wins’, ‘losses’, ‘draws’]"
   ]
  },
  {
   "cell_type": "code",
   "execution_count": null,
   "metadata": {},
   "outputs": [],
   "source": [
    "data_clean.loc[data_clean.armspan_inches =='--','armspan_inches'] = np.nandata_clean.armspan_inches = data_clean.armspan_inches \\\n",
    ".str.replace('\\\"','') \\\n",
    ".astype('float')sns.histplot(data = data_clean,\n",
    "x = 'armspan_inches',\n",
    "color = 'navy')plt.xlabel('fighter armpan in inches')\n",
    "plt.show()"
   ]
  },
  {
   "cell_type": "code",
   "execution_count": null,
   "metadata": {},
   "outputs": [],
   "source": [
    "data_clean.height = data_clean.height.str.replace('\\\"','')data_clean.loc[data_clean.height == '--','height'] = np.nandata_clean.loc[:,'height_split'] = data_clean.height.str.split('\\' ')data_clean.loc[:,'height_split']"
   ]
  },
  {
   "cell_type": "code",
   "execution_count": null,
   "metadata": {},
   "outputs": [],
   "source": [
    "data_clean.loc[:,'height_ft'] = [row[0] if isinstance(row,list) else np.nan for row in data_clean.height_split]\n",
    "\n",
    "data_clean.loc[:,'height_inches'] = [row[1] if isinstance(row,list) else np.nan for row in data_clean.height_split]"
   ]
  },
  {
   "cell_type": "code",
   "execution_count": null,
   "metadata": {},
   "outputs": [],
   "source": [
    "data_clean.loc[:,'height'] = data_clean.loc[:,'height_inches'].astype('float')+ (data_clean.loc[:,'height_ft'].astype('float')*12)data_clean = data_clean.drop(columns = ['height_inches','height_ft','height_split']).rename(columns = {'height':'height_inches'})sns.histplot(data = data_clean, x = 'height_inches', color = 'navy',bins = 15)plt.xlabel('fighter height in inches')\n",
    "plt.show()"
   ]
  },
  {
   "cell_type": "code",
   "execution_count": null,
   "metadata": {},
   "outputs": [],
   "source": [
    "data_clean.loc[data_clean.weight_lbs =='--','weight_lbs'] = np.nan\n",
    "data_clean.weight_lbs= data_clean.weight_lbs.str.replace(' lbs','').astype('float')\n",
    "\n",
    "sns.histplot(data = data_clean, x = 'weight_lbs', color = 'navy', bins = 30)\n",
    "plt.xlabel('fighter weight in lbs')\n",
    "plt.show()"
   ]
  },
  {
   "cell_type": "code",
   "execution_count": null,
   "metadata": {},
   "outputs": [],
   "source": [
    "data_clean.weight_lbs.sort_values(ascending = False)"
   ]
  },
  {
   "cell_type": "code",
   "execution_count": null,
   "metadata": {},
   "outputs": [],
   "source": [
    "data_clean.loc[data_clean.weight_lbs==770,:]"
   ]
  },
  {
   "cell_type": "code",
   "execution_count": null,
   "metadata": {},
   "outputs": [],
   "source": [
    "without_emmanuel = data_clean.loc[data_clean.weight_lbs <770,:]\n",
    "\n",
    "sns.histplot(data = without_emmanuel, x = 'weight_lbs', color = 'navy', binwidth=12)\n",
    "plt.xlabel('fighter weight in lbs')\n",
    "plt.show()"
   ]
  },
  {
   "cell_type": "code",
   "execution_count": null,
   "metadata": {},
   "outputs": [],
   "source": [
    "data_clean = data_clean.fillna('Missing')\n",
    "data_clean.value_counts('stance')"
   ]
  },
  {
   "cell_type": "code",
   "execution_count": null,
   "metadata": {},
   "outputs": [],
   "source": [
    "sns.countplot(y = 'stance', data = data_clean, order = ['Orthodox', 'Southpaw','Switch','Open Stance','Sideways','Missing'])\n",
    "plt.show()"
   ]
  },
  {
   "cell_type": "code",
   "execution_count": null,
   "metadata": {},
   "outputs": [],
   "source": [
    "data_clean.loc[:,'total_fights'] = data_clean.loc[:,['wins','draws','losses']].sum(axis = 1)"
   ]
  },
  {
   "cell_type": "code",
   "execution_count": null,
   "metadata": {},
   "outputs": [],
   "source": [
    "mapping = {'Open Stance':'Mixed','Sideways':'Mixed','Switch':'Mixed'}\n",
    "data_clean.loc[:,'stance2'] = data_clean.loc[:,'stance'].replace(mapping)\n",
    "\n",
    "sns.countplot(y = 'stance2', data=data_clean, order = ['Orthodox','Southpaw','Mixed','Missing'])\n",
    "\n",
    "plt.show()"
   ]
  },
  {
   "cell_type": "code",
   "execution_count": null,
   "metadata": {},
   "outputs": [],
   "source": [
    "#write.csv(data_clean, ’UFC_data_cleaned.csv’)"
   ]
  },
  {
   "cell_type": "code",
   "execution_count": null,
   "metadata": {},
   "outputs": [],
   "source": [
    "import statsmodels.api as sm\n",
    "data = data_clean\n",
    "data = data.drop(axis = 1, columns = ['Unnamed: 0'])"
   ]
  },
  {
   "cell_type": "code",
   "execution_count": null,
   "metadata": {},
   "outputs": [],
   "source": [
    "data.hist(grid = False, bins = 15)\n",
    "plt.show()"
   ]
  },
  {
   "cell_type": "code",
   "execution_count": null,
   "metadata": {},
   "outputs": [],
   "source": [
    "data.loc[data.total_fights > 100,:]"
   ]
  },
  {
   "cell_type": "code",
   "execution_count": null,
   "metadata": {},
   "outputs": [],
   "source": [
    "correlation_matrix = data.loc[:,['height_inches', 'weight_lb', 'armspan_inches', 'losses', 'wins','total_fights']].corr(method = 'spearman').round(2)\n",
    "\n",
    "mask = np.zeros_like(correlation_matrix)\n",
    "mask[np.triu_indices_from(mask)] = True\n",
    "\n",
    "sns.heatmap(correlation_matrix, annot=True,vmin = -1, vmax=1,mask=mask, square=True, cmap=\"BuPu\")\n",
    "plt.xticks(rotation = 60)\n",
    "plt.yticks(rotation = 0)\n",
    "plt.show()"
   ]
  },
  {
   "cell_type": "code",
   "execution_count": null,
   "metadata": {},
   "outputs": [],
   "source": [
    "data.loc[:,'win_percentage'] = (data.loc[:,'wins']+ (0.5*data.loc[:,'draws']) )/data.loc[:,'total_fights']\n",
    "\n",
    "sns.histplot(data = data, x = 'win_percentage', color = 'navy', bins = 20)\n",
    "plt.show()"
   ]
  },
  {
   "cell_type": "code",
   "execution_count": null,
   "metadata": {},
   "outputs": [],
   "source": [
    "data_model = data.loc[:, [‘armspan_inches’, ’height_inches’, ’weight_lb’]].dropna()"
   ]
  },
  {
   "cell_type": "code",
   "execution_count": null,
   "metadata": {},
   "outputs": [],
   "source": [
    "X = data_model.loc[:,['height_inches','weight_lb']]\n",
    "X = sm.add_constant(X)\n",
    "y = data_model.loc[:,'armspan_inches']\n",
    "\n",
    "sm.OLS(y, X).fit().summary()"
   ]
  },
  {
   "cell_type": "code",
   "execution_count": null,
   "metadata": {},
   "outputs": [],
   "source": [
    "data_model2 = data.loc[:,['armspan_inches','height_inches','weight_lb', 'win_percentage']].dropna()\n",
    "\n",
    "X = data_model2.loc[:,['height_inches','weight_lb','armspan_inches']]\n",
    "X = sm.add_constant(X)\n",
    "y = data_model2.loc[:,'win_percentage']\n",
    "sm.OLS(y,X).fit().summary()"
   ]
  },
  {
   "cell_type": "code",
   "execution_count": null,
   "metadata": {},
   "outputs": [],
   "source": [
    "data.loc[data.weight_lb == 155,'armspan_inches'].agg(['min','max'])"
   ]
  }
 ],
 "metadata": {
  "kernelspec": {
   "display_name": "Python 3.10.2 64-bit",
   "language": "python",
   "name": "python3"
  },
  "language_info": {
   "codemirror_mode": {
    "name": "ipython",
    "version": 3
   },
   "file_extension": ".py",
   "mimetype": "text/x-python",
   "name": "python",
   "nbconvert_exporter": "python",
   "pygments_lexer": "ipython3",
   "version": "3.10.2"
  },
  "orig_nbformat": 4,
  "vscode": {
   "interpreter": {
    "hash": "aee8b7b246df8f9039afb4144a1f6fd8d2ca17a180786b69acc140d282b71a49"
   }
  }
 },
 "nbformat": 4,
 "nbformat_minor": 2
}
